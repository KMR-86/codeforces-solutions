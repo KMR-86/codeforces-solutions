{
 "cells": [
  {
   "cell_type": "code",
   "execution_count": 14,
   "metadata": {},
   "outputs": [
    {
     "name": "stdout",
     "output_type": "stream",
     "text": [
      "5 2 1 1 2 2 4 1 3 1 4 3 4 2 2 5 1 2 1 2 3 4 3 5 4 5 3 1 2 3 1 2 3 4 2 3 2 4 1 3 4 1\n",
      "1 2 \n",
      "\n",
      "1 3 4 2 \n",
      "\n",
      "1 2 3 4 5 \n",
      "\n",
      "1 2 3 \n",
      "\n",
      "2 3 4 1 \n",
      "\n"
     ]
    }
   ],
   "source": [
    "inp=[int(num) for num in input().split()]\n",
    "tc=int(inp[0])\n",
    "ind=1;\n",
    "for i in range(0,tc):\n",
    "\n",
    "  n=int(inp[ind])\n",
    "  ind+=1\n",
    "    \n",
    "  st={}\n",
    "\n",
    "  for j in range(0,2*n):\n",
    "    t=int(inp[ind])\n",
    "    ind+=1\n",
    "    if t not in st:\n",
    "        st[t]=1;\n",
    "    \n",
    "  \n",
    "  for s in st:\n",
    "    print(s, end =\" \")\n",
    "  \n",
    "  print()\n",
    "  "
   ]
  },
  {
   "cell_type": "code",
   "execution_count": null,
   "metadata": {},
   "outputs": [],
   "source": []
  }
 ],
 "metadata": {
  "kernelspec": {
   "display_name": "Python 3",
   "language": "python",
   "name": "python3"
  },
  "language_info": {
   "codemirror_mode": {
    "name": "ipython",
    "version": 3
   },
   "file_extension": ".py",
   "mimetype": "text/x-python",
   "name": "python",
   "nbconvert_exporter": "python",
   "pygments_lexer": "ipython3",
   "version": "3.7.4"
  }
 },
 "nbformat": 4,
 "nbformat_minor": 2
}
