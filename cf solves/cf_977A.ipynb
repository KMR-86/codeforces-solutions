{
  "nbformat": 4,
  "nbformat_minor": 0,
  "metadata": {
    "colab": {
      "name": "cf-977A.ipynb",
      "provenance": [],
      "authorship_tag": "ABX9TyPURHUMs8cyL5SBpbNc5WOm",
      "include_colab_link": true
    },
    "kernelspec": {
      "name": "python3",
      "display_name": "Python 3"
    }
  },
  "cells": [
    {
      "cell_type": "markdown",
      "metadata": {
        "id": "view-in-github",
        "colab_type": "text"
      },
      "source": [
        "<a href=\"https://colab.research.google.com/github/KMR-86/codeforces-solutions-python/blob/master/cf_977A.ipynb\" target=\"_parent\"><img src=\"https://colab.research.google.com/assets/colab-badge.svg\" alt=\"Open In Colab\"/></a>"
      ]
    },
    {
      "cell_type": "code",
      "metadata": {
        "id": "Uc8rhEVvLRFV",
        "colab_type": "code",
        "colab": {
          "base_uri": "https://localhost:8080/",
          "height": 52
        },
        "outputId": "7c11b1ce-c9f1-4995-82bc-05f00d0cccfe"
      },
      "source": [
        "numbers = list(map(int, input().split()))\n",
        "n,k=numbers\n",
        "for i in range(k):\n",
        "  if n%10==0:\n",
        "    n=n/10\n",
        "  else:\n",
        "    n=n-1\n",
        "print(int(n))"
      ],
      "execution_count": 6,
      "outputs": [
        {
          "output_type": "stream",
          "text": [
            "1000000000 9\n",
            "1\n"
          ],
          "name": "stdout"
        }
      ]
    }
  ]
}